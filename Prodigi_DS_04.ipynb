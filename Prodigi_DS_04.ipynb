{
 "cells": [
  {
   "cell_type": "markdown",
   "id": "90de814a",
   "metadata": {},
   "source": [
    "## Introduction\n",
    "Twitter Sentiment Analysis Dataset\n",
    "Overview\n",
    "This is an entity-level sentiment analysis dataset of twitter. Given a message and an entity, the task is to judge the sentiment of the message about the entity. There are three classes in this dataset: Positive, Negative and Neutral. We regard messages that are not relevant to the entity (i.e. Irrelevant) as Neutral.\n",
    "\n"
   ]
  },
  {
   "cell_type": "markdown",
   "id": "882733d9",
   "metadata": {},
   "source": [
    "### 1. Importing Libraries:\n",
    "Let’s start by importing the required libraries for data analysis and visualization:"
   ]
  },
  {
   "cell_type": "code",
   "execution_count": 1,
   "id": "2f418f61",
   "metadata": {},
   "outputs": [],
   "source": [
    "#important library we need\n",
    "import numpy as np\n",
    "import pandas as pd\n",
    "import matplotlib.pyplot as plt\n",
    "import seaborn as sns\n",
    "import nltk"
   ]
  },
  {
   "cell_type": "code",
   "execution_count": 2,
   "id": "bd2b27ad",
   "metadata": {},
   "outputs": [],
   "source": [
    "plt.style.use('fivethirtyeight')\n",
    "import warnings\n",
    "warnings.filterwarnings('ignore')\n",
    "%matplotlib inline"
   ]
  },
  {
   "cell_type": "markdown",
   "id": "8dff01d7",
   "metadata": {},
   "source": [
    "### 2. Loading the Dataset:\n",
    "The Titanic dataset is available in the Seaborn library, so we can load it directly into a DataFrame:\n"
   ]
  },
  {
   "cell_type": "code",
   "execution_count": 3,
   "id": "0ba22acb",
   "metadata": {},
   "outputs": [],
   "source": [
    "#load all of data :\n",
    "twitts_train = pd.read_csv(\"twitter_training.csv\")\n",
    "twitts_valid = pd.read_csv(\"twitter_validation.csv\")"
   ]
  },
  {
   "cell_type": "markdown",
   "id": "4dcdc218",
   "metadata": {},
   "source": [
    "At first put name for each column:\n",
    "\n",
    "At the second step add two data frame to the one dataframe to analysis"
   ]
  },
  {
   "cell_type": "code",
   "execution_count": 4,
   "id": "1909548b",
   "metadata": {},
   "outputs": [
    {
     "data": {
      "text/html": [
       "<div>\n",
       "<style scoped>\n",
       "    .dataframe tbody tr th:only-of-type {\n",
       "        vertical-align: middle;\n",
       "    }\n",
       "\n",
       "    .dataframe tbody tr th {\n",
       "        vertical-align: top;\n",
       "    }\n",
       "\n",
       "    .dataframe thead th {\n",
       "        text-align: right;\n",
       "    }\n",
       "</style>\n",
       "<table border=\"1\" class=\"dataframe\">\n",
       "  <thead>\n",
       "    <tr style=\"text-align: right;\">\n",
       "      <th></th>\n",
       "      <th>tweetID</th>\n",
       "      <th>entity</th>\n",
       "      <th>sentiment</th>\n",
       "      <th>tweet_content</th>\n",
       "    </tr>\n",
       "  </thead>\n",
       "  <tbody>\n",
       "    <tr>\n",
       "      <th>0</th>\n",
       "      <td>2401</td>\n",
       "      <td>Borderlands</td>\n",
       "      <td>Positive</td>\n",
       "      <td>I am coming to the borders and I will kill you...</td>\n",
       "    </tr>\n",
       "    <tr>\n",
       "      <th>1</th>\n",
       "      <td>2401</td>\n",
       "      <td>Borderlands</td>\n",
       "      <td>Positive</td>\n",
       "      <td>im getting on borderlands and i will kill you ...</td>\n",
       "    </tr>\n",
       "    <tr>\n",
       "      <th>2</th>\n",
       "      <td>2401</td>\n",
       "      <td>Borderlands</td>\n",
       "      <td>Positive</td>\n",
       "      <td>im coming on borderlands and i will murder you...</td>\n",
       "    </tr>\n",
       "    <tr>\n",
       "      <th>3</th>\n",
       "      <td>2401</td>\n",
       "      <td>Borderlands</td>\n",
       "      <td>Positive</td>\n",
       "      <td>im getting on borderlands 2 and i will murder ...</td>\n",
       "    </tr>\n",
       "    <tr>\n",
       "      <th>4</th>\n",
       "      <td>2401</td>\n",
       "      <td>Borderlands</td>\n",
       "      <td>Positive</td>\n",
       "      <td>im getting into borderlands and i can murder y...</td>\n",
       "    </tr>\n",
       "  </tbody>\n",
       "</table>\n",
       "</div>"
      ],
      "text/plain": [
       "   tweetID       entity sentiment  \\\n",
       "0     2401  Borderlands  Positive   \n",
       "1     2401  Borderlands  Positive   \n",
       "2     2401  Borderlands  Positive   \n",
       "3     2401  Borderlands  Positive   \n",
       "4     2401  Borderlands  Positive   \n",
       "\n",
       "                                       tweet_content  \n",
       "0  I am coming to the borders and I will kill you...  \n",
       "1  im getting on borderlands and i will kill you ...  \n",
       "2  im coming on borderlands and i will murder you...  \n",
       "3  im getting on borderlands 2 and i will murder ...  \n",
       "4  im getting into borderlands and i can murder y...  "
      ]
     },
     "execution_count": 4,
     "metadata": {},
     "output_type": "execute_result"
    }
   ],
   "source": [
    "column_name=['tweetID','entity','sentiment','tweet_content']\n",
    "twitts_train.columns=column_name\n",
    "twitts_valid.columns=column_name\n",
    "df=pd.concat([twitts_train,twitts_valid],ignore_index=False)\n",
    "df.head()"
   ]
  },
  {
   "cell_type": "markdown",
   "id": "be91e735",
   "metadata": {},
   "source": [
    "### 3. Exploring the Data:\n",
    "To gain initial insights into the dataset, we can perform some basic exploratory operations:"
   ]
  },
  {
   "cell_type": "code",
   "execution_count": 5,
   "id": "34d17581",
   "metadata": {},
   "outputs": [
    {
     "data": {
      "text/html": [
       "<div>\n",
       "<style scoped>\n",
       "    .dataframe tbody tr th:only-of-type {\n",
       "        vertical-align: middle;\n",
       "    }\n",
       "\n",
       "    .dataframe tbody tr th {\n",
       "        vertical-align: top;\n",
       "    }\n",
       "\n",
       "    .dataframe thead th {\n",
       "        text-align: right;\n",
       "    }\n",
       "</style>\n",
       "<table border=\"1\" class=\"dataframe\">\n",
       "  <thead>\n",
       "    <tr style=\"text-align: right;\">\n",
       "      <th></th>\n",
       "      <th>tweetID</th>\n",
       "      <th>entity</th>\n",
       "      <th>sentiment</th>\n",
       "      <th>tweet_content</th>\n",
       "    </tr>\n",
       "  </thead>\n",
       "  <tbody>\n",
       "    <tr>\n",
       "      <th>0</th>\n",
       "      <td>2401</td>\n",
       "      <td>Borderlands</td>\n",
       "      <td>Positive</td>\n",
       "      <td>I am coming to the borders and I will kill you...</td>\n",
       "    </tr>\n",
       "    <tr>\n",
       "      <th>1</th>\n",
       "      <td>2401</td>\n",
       "      <td>Borderlands</td>\n",
       "      <td>Positive</td>\n",
       "      <td>im getting on borderlands and i will kill you ...</td>\n",
       "    </tr>\n",
       "    <tr>\n",
       "      <th>2</th>\n",
       "      <td>2401</td>\n",
       "      <td>Borderlands</td>\n",
       "      <td>Positive</td>\n",
       "      <td>im coming on borderlands and i will murder you...</td>\n",
       "    </tr>\n",
       "    <tr>\n",
       "      <th>3</th>\n",
       "      <td>2401</td>\n",
       "      <td>Borderlands</td>\n",
       "      <td>Positive</td>\n",
       "      <td>im getting on borderlands 2 and i will murder ...</td>\n",
       "    </tr>\n",
       "    <tr>\n",
       "      <th>4</th>\n",
       "      <td>2401</td>\n",
       "      <td>Borderlands</td>\n",
       "      <td>Positive</td>\n",
       "      <td>im getting into borderlands and i can murder y...</td>\n",
       "    </tr>\n",
       "  </tbody>\n",
       "</table>\n",
       "</div>"
      ],
      "text/plain": [
       "   tweetID       entity sentiment  \\\n",
       "0     2401  Borderlands  Positive   \n",
       "1     2401  Borderlands  Positive   \n",
       "2     2401  Borderlands  Positive   \n",
       "3     2401  Borderlands  Positive   \n",
       "4     2401  Borderlands  Positive   \n",
       "\n",
       "                                       tweet_content  \n",
       "0  I am coming to the borders and I will kill you...  \n",
       "1  im getting on borderlands and i will kill you ...  \n",
       "2  im coming on borderlands and i will murder you...  \n",
       "3  im getting on borderlands 2 and i will murder ...  \n",
       "4  im getting into borderlands and i can murder y...  "
      ]
     },
     "metadata": {},
     "output_type": "display_data"
    }
   ],
   "source": [
    "# Display the first few rows of the dataset\n",
    "display(df.head())"
   ]
  },
  {
   "cell_type": "code",
   "execution_count": 6,
   "id": "8dc3ffc8",
   "metadata": {
    "scrolled": true
   },
   "outputs": [
    {
     "data": {
      "text/plain": [
       "(75680, 4)"
      ]
     },
     "metadata": {},
     "output_type": "display_data"
    },
    {
     "name": "stdout",
     "output_type": "stream",
     "text": [
      "*************************\n"
     ]
    },
    {
     "data": {
      "text/html": [
       "<div>\n",
       "<style scoped>\n",
       "    .dataframe tbody tr th:only-of-type {\n",
       "        vertical-align: middle;\n",
       "    }\n",
       "\n",
       "    .dataframe tbody tr th {\n",
       "        vertical-align: top;\n",
       "    }\n",
       "\n",
       "    .dataframe thead th {\n",
       "        text-align: right;\n",
       "    }\n",
       "</style>\n",
       "<table border=\"1\" class=\"dataframe\">\n",
       "  <thead>\n",
       "    <tr style=\"text-align: right;\">\n",
       "      <th></th>\n",
       "      <th>tweetID</th>\n",
       "    </tr>\n",
       "  </thead>\n",
       "  <tbody>\n",
       "    <tr>\n",
       "      <th>count</th>\n",
       "      <td>75680.000000</td>\n",
       "    </tr>\n",
       "    <tr>\n",
       "      <th>mean</th>\n",
       "      <td>6432.673401</td>\n",
       "    </tr>\n",
       "    <tr>\n",
       "      <th>std</th>\n",
       "      <td>3740.247541</td>\n",
       "    </tr>\n",
       "    <tr>\n",
       "      <th>min</th>\n",
       "      <td>1.000000</td>\n",
       "    </tr>\n",
       "    <tr>\n",
       "      <th>25%</th>\n",
       "      <td>3196.000000</td>\n",
       "    </tr>\n",
       "    <tr>\n",
       "      <th>50%</th>\n",
       "      <td>6423.500000</td>\n",
       "    </tr>\n",
       "    <tr>\n",
       "      <th>75%</th>\n",
       "      <td>9602.000000</td>\n",
       "    </tr>\n",
       "    <tr>\n",
       "      <th>max</th>\n",
       "      <td>13200.000000</td>\n",
       "    </tr>\n",
       "  </tbody>\n",
       "</table>\n",
       "</div>"
      ],
      "text/plain": [
       "            tweetID\n",
       "count  75680.000000\n",
       "mean    6432.673401\n",
       "std     3740.247541\n",
       "min        1.000000\n",
       "25%     3196.000000\n",
       "50%     6423.500000\n",
       "75%     9602.000000\n",
       "max    13200.000000"
      ]
     },
     "metadata": {},
     "output_type": "display_data"
    },
    {
     "name": "stdout",
     "output_type": "stream",
     "text": [
      "************************* \n",
      " tweetID           int64\n",
      "entity           object\n",
      "sentiment        object\n",
      "tweet_content    object\n",
      "dtype: object\n",
      "************************* \n",
      " tweetID            0\n",
      "entity             0\n",
      "sentiment          0\n",
      "tweet_content    686\n",
      "dtype: int64\n"
     ]
    }
   ],
   "source": [
    "# Check the dimensions of the dataset\n",
    "display(df.shape)\n",
    "print('*'*25)\n",
    "\n",
    "# Get summary statistics of numerical variables\n",
    "display(df.describe())\n",
    "\n",
    "# Check the data types of variables\n",
    "print(f\"{'*'*25} \\n {df.dtypes}\")\n",
    "\n",
    "# Check for missing values\n",
    "print(f\"{'*'*25} \\n {df.isnull().sum()}\")\n"
   ]
  },
  {
   "cell_type": "markdown",
   "id": "7beb7a37",
   "metadata": {},
   "source": [
    "### 4. Data Cleaning:\n",
    "Data cleaning is an essential step in EDA. We must handle missing values, outliers, and inconsistencies in the dataset. Some common data-cleaning tasks include:"
   ]
  },
  {
   "cell_type": "code",
   "execution_count": 7,
   "id": "45eac762",
   "metadata": {
    "scrolled": true
   },
   "outputs": [
    {
     "data": {
      "text/plain": [
       "Negative      22808\n",
       "Positive      21108\n",
       "Neutral       18603\n",
       "Irrelevant    13161\n",
       "Name: sentiment, dtype: int64"
      ]
     },
     "execution_count": 7,
     "metadata": {},
     "output_type": "execute_result"
    }
   ],
   "source": [
    "df.sentiment.value_counts()"
   ]
  },
  {
   "cell_type": "code",
   "execution_count": 8,
   "id": "6a638202",
   "metadata": {},
   "outputs": [
    {
     "data": {
      "text/html": [
       "<div>\n",
       "<style scoped>\n",
       "    .dataframe tbody tr th:only-of-type {\n",
       "        vertical-align: middle;\n",
       "    }\n",
       "\n",
       "    .dataframe tbody tr th {\n",
       "        vertical-align: top;\n",
       "    }\n",
       "\n",
       "    .dataframe thead th {\n",
       "        text-align: right;\n",
       "    }\n",
       "</style>\n",
       "<table border=\"1\" class=\"dataframe\">\n",
       "  <thead>\n",
       "    <tr style=\"text-align: right;\">\n",
       "      <th></th>\n",
       "      <th>tweetID</th>\n",
       "      <th>entity</th>\n",
       "      <th>sentiment</th>\n",
       "      <th>tweet_content</th>\n",
       "    </tr>\n",
       "  </thead>\n",
       "  <tbody>\n",
       "    <tr>\n",
       "      <th>0</th>\n",
       "      <td>2401</td>\n",
       "      <td>Borderlands</td>\n",
       "      <td>Positive</td>\n",
       "      <td>I am coming to the borders and I will kill you...</td>\n",
       "    </tr>\n",
       "    <tr>\n",
       "      <th>1</th>\n",
       "      <td>2401</td>\n",
       "      <td>Borderlands</td>\n",
       "      <td>Positive</td>\n",
       "      <td>im getting on borderlands and i will kill you ...</td>\n",
       "    </tr>\n",
       "    <tr>\n",
       "      <th>2</th>\n",
       "      <td>2401</td>\n",
       "      <td>Borderlands</td>\n",
       "      <td>Positive</td>\n",
       "      <td>im coming on borderlands and i will murder you...</td>\n",
       "    </tr>\n",
       "    <tr>\n",
       "      <th>3</th>\n",
       "      <td>2401</td>\n",
       "      <td>Borderlands</td>\n",
       "      <td>Positive</td>\n",
       "      <td>im getting on borderlands 2 and i will murder ...</td>\n",
       "    </tr>\n",
       "    <tr>\n",
       "      <th>4</th>\n",
       "      <td>2401</td>\n",
       "      <td>Borderlands</td>\n",
       "      <td>Positive</td>\n",
       "      <td>im getting into borderlands and i can murder y...</td>\n",
       "    </tr>\n",
       "    <tr>\n",
       "      <th>...</th>\n",
       "      <td>...</td>\n",
       "      <td>...</td>\n",
       "      <td>...</td>\n",
       "      <td>...</td>\n",
       "    </tr>\n",
       "    <tr>\n",
       "      <th>994</th>\n",
       "      <td>4891</td>\n",
       "      <td>GrandTheftAuto(GTA)</td>\n",
       "      <td>Irrelevant</td>\n",
       "      <td>⭐️ Toronto is the arts and culture capital of ...</td>\n",
       "    </tr>\n",
       "    <tr>\n",
       "      <th>995</th>\n",
       "      <td>4359</td>\n",
       "      <td>CS-GO</td>\n",
       "      <td>Irrelevant</td>\n",
       "      <td>tHIS IS ACTUALLY A GOOD MOVE TOT BRING MORE VI...</td>\n",
       "    </tr>\n",
       "    <tr>\n",
       "      <th>996</th>\n",
       "      <td>2652</td>\n",
       "      <td>Borderlands</td>\n",
       "      <td>Positive</td>\n",
       "      <td>Today sucked so it’s time to drink wine n play...</td>\n",
       "    </tr>\n",
       "    <tr>\n",
       "      <th>997</th>\n",
       "      <td>8069</td>\n",
       "      <td>Microsoft</td>\n",
       "      <td>Positive</td>\n",
       "      <td>Bought a fraction of Microsoft today. Small wins.</td>\n",
       "    </tr>\n",
       "    <tr>\n",
       "      <th>998</th>\n",
       "      <td>6960</td>\n",
       "      <td>johnson&amp;johnson</td>\n",
       "      <td>Neutral</td>\n",
       "      <td>Johnson &amp; Johnson to stop selling talc baby po...</td>\n",
       "    </tr>\n",
       "  </tbody>\n",
       "</table>\n",
       "<p>75680 rows × 4 columns</p>\n",
       "</div>"
      ],
      "text/plain": [
       "     tweetID               entity   sentiment  \\\n",
       "0       2401          Borderlands    Positive   \n",
       "1       2401          Borderlands    Positive   \n",
       "2       2401          Borderlands    Positive   \n",
       "3       2401          Borderlands    Positive   \n",
       "4       2401          Borderlands    Positive   \n",
       "..       ...                  ...         ...   \n",
       "994     4891  GrandTheftAuto(GTA)  Irrelevant   \n",
       "995     4359                CS-GO  Irrelevant   \n",
       "996     2652          Borderlands    Positive   \n",
       "997     8069            Microsoft    Positive   \n",
       "998     6960      johnson&johnson     Neutral   \n",
       "\n",
       "                                         tweet_content  \n",
       "0    I am coming to the borders and I will kill you...  \n",
       "1    im getting on borderlands and i will kill you ...  \n",
       "2    im coming on borderlands and i will murder you...  \n",
       "3    im getting on borderlands 2 and i will murder ...  \n",
       "4    im getting into borderlands and i can murder y...  \n",
       "..                                                 ...  \n",
       "994  ⭐️ Toronto is the arts and culture capital of ...  \n",
       "995  tHIS IS ACTUALLY A GOOD MOVE TOT BRING MORE VI...  \n",
       "996  Today sucked so it’s time to drink wine n play...  \n",
       "997  Bought a fraction of Microsoft today. Small wins.  \n",
       "998  Johnson & Johnson to stop selling talc baby po...  \n",
       "\n",
       "[75680 rows x 4 columns]"
      ]
     },
     "execution_count": 8,
     "metadata": {},
     "output_type": "execute_result"
    }
   ],
   "source": [
    "df"
   ]
  },
  {
   "cell_type": "code",
   "execution_count": 8,
   "id": "1308eee9",
   "metadata": {},
   "outputs": [
    {
     "data": {
      "image/png": "[encoded data removed]",
      "text/plain": [
       "<Figure size 400x400 with 1 Axes>"
      ]
     },
     "metadata": {},
     "output_type": "display_data"
    }
   ],
   "source": [
    "# Create the pie chart using matplotlib\n",
    "plt.figure(figsize=(4, 4))\n",
    "plt.pie(df.sentiment.value_counts(),labels=df.sentiment.value_counts().index,autopct='%1.1f%%')\n",
    "plt.title('Class Balance (Percentage)')\n",
    "plt.axis('equal')  # Equal aspect ratio ensures that pie is drawn as a circle.\n",
    "plt.tight_layout()\n",
    "plt.show()"
   ]
  },
  {
   "cell_type": "code",
   "execution_count": 9,
   "id": "7d5e4a1c",
   "metadata": {},
   "outputs": [],
   "source": [
    "df['sentiment']=df['sentiment'].replace(to_replace=r'Irrelevant', value='Neutral', regex=True)"
   ]
  },
  {
   "cell_type": "code",
   "execution_count": 10,
   "id": "c6178ba5",
   "metadata": {
    "scrolled": true
   },
   "outputs": [
    {
     "data": {
      "text/plain": [
       "Neutral     31764\n",
       "Negative    22808\n",
       "Positive    21108\n",
       "Name: sentiment, dtype: int64"
      ]
     },
     "execution_count": 10,
     "metadata": {},
     "output_type": "execute_result"
    }
   ],
   "source": [
    "df.sentiment.value_counts()"
   ]
  },
  {
   "cell_type": "code",
   "execution_count": 11,
   "id": "6f1e6acb",
   "metadata": {},
   "outputs": [
    {
     "data": {
      "image/png": "[encoded data removed]",
      "text/plain": [
       "<Figure size 400x400 with 1 Axes>"
      ]
     },
     "metadata": {},
     "output_type": "display_data"
    }
   ],
   "source": [
    "# Create the pie chart using matplotlib\n",
    "plt.figure(figsize=(4, 4))\n",
    "plt.pie(df.sentiment.value_counts(),labels=df.sentiment.value_counts().index,autopct='%1.1f%%')\n",
    "plt.title('Class Balance (Percentage)')\n",
    "plt.axis('equal')  # Equal aspect ratio ensures that pie is drawn as a circle.\n",
    "plt.tight_layout()\n",
    "plt.show()"
   ]
  },
  {
   "cell_type": "code",
   "execution_count": 12,
   "id": "cc906e13",
   "metadata": {},
   "outputs": [
    {
     "name": "stdout",
     "output_type": "stream",
     "text": [
      "tweetID            0\n",
      "entity             0\n",
      "sentiment          0\n",
      "tweet_content    686\n",
      "dtype: int64\n",
      "3216\n"
     ]
    }
   ],
   "source": [
    "# Check for missing values\n",
    "missing_df = df.isnull().sum()\n",
    "\n",
    "# Check for duplicate rows\n",
    "duplicates_df = df.duplicated().sum()\n",
    "\n",
    "print(missing_df)\n",
    "print(duplicates_df)"
   ]
  },
  {
   "cell_type": "markdown",
   "id": "af87e6b8",
   "metadata": {},
   "source": [
    "Remove the all null values and duplicated values:\n",
    "\n",
    "Then check for the cleaning:"
   ]
  },
  {
   "cell_type": "code",
   "execution_count": 13,
   "id": "2e5b1db4",
   "metadata": {
    "scrolled": true
   },
   "outputs": [
    {
     "name": "stdout",
     "output_type": "stream",
     "text": [
      "null values: \n",
      " tweetID          0\n",
      "entity           0\n",
      "sentiment        0\n",
      "tweet_content    0\n",
      "dtype: int64\n",
      "duplicated values: 0\n"
     ]
    }
   ],
   "source": [
    "df.dropna(inplace=True)\n",
    "df.drop_duplicates(inplace=True)\n",
    "print(\"null values:\",\"\\n\",df.isnull().sum())\n",
    "print(\"duplicated values:\",df.duplicated().sum())"
   ]
  },
  {
   "cell_type": "code",
   "execution_count": 14,
   "id": "608b907c",
   "metadata": {},
   "outputs": [
    {
     "data": {
      "text/plain": [
       "array(['Borderlands', 'CallOfDutyBlackopsColdWar', 'Amazon', 'Overwatch',\n",
       "       'Xbox(Xseries)', 'NBA2K', 'Dota2', 'PlayStation5(PS5)',\n",
       "       'WorldOfCraft', 'CS-GO', 'Google', 'AssassinsCreed', 'ApexLegends',\n",
       "       'LeagueOfLegends', 'Fortnite', 'Microsoft', 'Hearthstone',\n",
       "       'Battlefield', 'PlayerUnknownsBattlegrounds(PUBG)', 'Verizon',\n",
       "       'HomeDepot', 'FIFA', 'RedDeadRedemption(RDR)', 'CallOfDuty',\n",
       "       'TomClancysRainbowSix', 'Facebook', 'GrandTheftAuto(GTA)',\n",
       "       'MaddenNFL', 'johnson&johnson', 'Cyberpunk2077',\n",
       "       'TomClancysGhostRecon', 'Nvidia'], dtype=object)"
      ]
     },
     "execution_count": 14,
     "metadata": {},
     "output_type": "execute_result"
    }
   ],
   "source": [
    "df['entity'].unique()"
   ]
  },
  {
   "cell_type": "code",
   "execution_count": 15,
   "id": "2805b044",
   "metadata": {},
   "outputs": [
    {
     "data": {
      "text/plain": [
       "TomClancysRainbowSix                 2349\n",
       "CallOfDuty                           2333\n",
       "Verizon                              2330\n",
       "MaddenNFL                            2326\n",
       "Microsoft                            2317\n",
       "WorldOfCraft                         2317\n",
       "LeagueOfLegends                      2314\n",
       "TomClancysGhostRecon                 2305\n",
       "ApexLegends                          2305\n",
       "NBA2K                                2304\n",
       "Facebook                             2300\n",
       "johnson&johnson                      2274\n",
       "Amazon                               2270\n",
       "Battlefield                          2269\n",
       "CallOfDutyBlackopsColdWar            2256\n",
       "FIFA                                 2256\n",
       "Dota2                                2240\n",
       "Hearthstone                          2237\n",
       "Overwatch                            2231\n",
       "HomeDepot                            2221\n",
       "Borderlands                          2221\n",
       "GrandTheftAuto(GTA)                  2218\n",
       "Xbox(Xseries)                        2216\n",
       "Nvidia                               2214\n",
       "Google                               2210\n",
       "CS-GO                                2210\n",
       "PlayStation5(PS5)                    2198\n",
       "Fortnite                             2191\n",
       "Cyberpunk2077                        2189\n",
       "PlayerUnknownsBattlegrounds(PUBG)    2175\n",
       "RedDeadRedemption(RDR)               2171\n",
       "AssassinsCreed                       2171\n",
       "Name: entity, dtype: int64"
      ]
     },
     "execution_count": 15,
     "metadata": {},
     "output_type": "execute_result"
    }
   ],
   "source": [
    "df['entity'].value_counts()"
   ]
  },
  {
   "cell_type": "markdown",
   "id": "004eeb36",
   "metadata": {},
   "source": [
    " For above values it is observed that all entity are well distributed"
   ]
  },
  {
   "cell_type": "markdown",
   "id": "9de3fa34",
   "metadata": {},
   "source": [
    "tweetID is not important so much, So we can drop it"
   ]
  },
  {
   "cell_type": "code",
   "execution_count": 16,
   "id": "c3db386a",
   "metadata": {},
   "outputs": [
    {
     "data": {
      "text/html": [
       "<div>\n",
       "<style scoped>\n",
       "    .dataframe tbody tr th:only-of-type {\n",
       "        vertical-align: middle;\n",
       "    }\n",
       "\n",
       "    .dataframe tbody tr th {\n",
       "        vertical-align: top;\n",
       "    }\n",
       "\n",
       "    .dataframe thead th {\n",
       "        text-align: right;\n",
       "    }\n",
       "</style>\n",
       "<table border=\"1\" class=\"dataframe\">\n",
       "  <thead>\n",
       "    <tr style=\"text-align: right;\">\n",
       "      <th></th>\n",
       "      <th>entity</th>\n",
       "      <th>sentiment</th>\n",
       "      <th>tweet_content</th>\n",
       "    </tr>\n",
       "  </thead>\n",
       "  <tbody>\n",
       "    <tr>\n",
       "      <th>0</th>\n",
       "      <td>Borderlands</td>\n",
       "      <td>Positive</td>\n",
       "      <td>I am coming to the borders and I will kill you...</td>\n",
       "    </tr>\n",
       "    <tr>\n",
       "      <th>1</th>\n",
       "      <td>Borderlands</td>\n",
       "      <td>Positive</td>\n",
       "      <td>im getting on borderlands and i will kill you ...</td>\n",
       "    </tr>\n",
       "    <tr>\n",
       "      <th>2</th>\n",
       "      <td>Borderlands</td>\n",
       "      <td>Positive</td>\n",
       "      <td>im coming on borderlands and i will murder you...</td>\n",
       "    </tr>\n",
       "    <tr>\n",
       "      <th>3</th>\n",
       "      <td>Borderlands</td>\n",
       "      <td>Positive</td>\n",
       "      <td>im getting on borderlands 2 and i will murder ...</td>\n",
       "    </tr>\n",
       "    <tr>\n",
       "      <th>4</th>\n",
       "      <td>Borderlands</td>\n",
       "      <td>Positive</td>\n",
       "      <td>im getting into borderlands and i can murder y...</td>\n",
       "    </tr>\n",
       "    <tr>\n",
       "      <th>...</th>\n",
       "      <td>...</td>\n",
       "      <td>...</td>\n",
       "      <td>...</td>\n",
       "    </tr>\n",
       "    <tr>\n",
       "      <th>987</th>\n",
       "      <td>LeagueOfLegends</td>\n",
       "      <td>Neutral</td>\n",
       "      <td>♥️ Suikoden 2\\n1️⃣ Alex Kidd in Miracle World\\...</td>\n",
       "    </tr>\n",
       "    <tr>\n",
       "      <th>988</th>\n",
       "      <td>HomeDepot</td>\n",
       "      <td>Positive</td>\n",
       "      <td>Thank you to Matching funds Home Depot RW paym...</td>\n",
       "    </tr>\n",
       "    <tr>\n",
       "      <th>990</th>\n",
       "      <td>CallOfDuty</td>\n",
       "      <td>Neutral</td>\n",
       "      <td>Late night stream with the boys! Come watch so...</td>\n",
       "    </tr>\n",
       "    <tr>\n",
       "      <th>994</th>\n",
       "      <td>GrandTheftAuto(GTA)</td>\n",
       "      <td>Neutral</td>\n",
       "      <td>⭐️ Toronto is the arts and culture capital of ...</td>\n",
       "    </tr>\n",
       "    <tr>\n",
       "      <th>995</th>\n",
       "      <td>CS-GO</td>\n",
       "      <td>Neutral</td>\n",
       "      <td>tHIS IS ACTUALLY A GOOD MOVE TOT BRING MORE VI...</td>\n",
       "    </tr>\n",
       "  </tbody>\n",
       "</table>\n",
       "<p>72138 rows × 3 columns</p>\n",
       "</div>"
      ],
      "text/plain": [
       "                  entity sentiment  \\\n",
       "0            Borderlands  Positive   \n",
       "1            Borderlands  Positive   \n",
       "2            Borderlands  Positive   \n",
       "3            Borderlands  Positive   \n",
       "4            Borderlands  Positive   \n",
       "..                   ...       ...   \n",
       "987      LeagueOfLegends   Neutral   \n",
       "988            HomeDepot  Positive   \n",
       "990           CallOfDuty   Neutral   \n",
       "994  GrandTheftAuto(GTA)   Neutral   \n",
       "995                CS-GO   Neutral   \n",
       "\n",
       "                                         tweet_content  \n",
       "0    I am coming to the borders and I will kill you...  \n",
       "1    im getting on borderlands and i will kill you ...  \n",
       "2    im coming on borderlands and i will murder you...  \n",
       "3    im getting on borderlands 2 and i will murder ...  \n",
       "4    im getting into borderlands and i can murder y...  \n",
       "..                                                 ...  \n",
       "987  ♥️ Suikoden 2\\n1️⃣ Alex Kidd in Miracle World\\...  \n",
       "988  Thank you to Matching funds Home Depot RW paym...  \n",
       "990  Late night stream with the boys! Come watch so...  \n",
       "994  ⭐️ Toronto is the arts and culture capital of ...  \n",
       "995  tHIS IS ACTUALLY A GOOD MOVE TOT BRING MORE VI...  \n",
       "\n",
       "[72138 rows x 3 columns]"
      ]
     },
     "execution_count": 16,
     "metadata": {},
     "output_type": "execute_result"
    }
   ],
   "source": [
    "df = df.iloc[:,1:]\n",
    "df"
   ]
  },
  {
   "cell_type": "markdown",
   "id": "f71747c9",
   "metadata": {},
   "source": [
    "### Encoding Categorical variable"
   ]
  },
  {
   "cell_type": "markdown",
   "id": "1c07fcc7",
   "metadata": {},
   "source": [
    "Replacing sentiment (['Neutral':0,'Positive':1,'Negative':2])"
   ]
  },
  {
   "cell_type": "code",
   "execution_count": 17,
   "id": "3a66edcd",
   "metadata": {},
   "outputs": [],
   "source": [
    "df['sentiment'] = df['sentiment'].map({'Neutral':0,'Positive':1,'Negative':2})"
   ]
  },
  {
   "cell_type": "markdown",
   "id": "74919ae1",
   "metadata": {},
   "source": [
    "### Feature Engineering on dataset"
   ]
  },
  {
   "cell_type": "code",
   "execution_count": 19,
   "id": "a321cc2a",
   "metadata": {},
   "outputs": [
    {
     "data": {
      "text/html": [
       "<div>\n",
       "<style scoped>\n",
       "    .dataframe tbody tr th:only-of-type {\n",
       "        vertical-align: middle;\n",
       "    }\n",
       "\n",
       "    .dataframe tbody tr th {\n",
       "        vertical-align: top;\n",
       "    }\n",
       "\n",
       "    .dataframe thead th {\n",
       "        text-align: right;\n",
       "    }\n",
       "</style>\n",
       "<table border=\"1\" class=\"dataframe\">\n",
       "  <thead>\n",
       "    <tr style=\"text-align: right;\">\n",
       "      <th></th>\n",
       "      <th>entity</th>\n",
       "      <th>sentiment</th>\n",
       "      <th>tweet_content</th>\n",
       "    </tr>\n",
       "  </thead>\n",
       "  <tbody>\n",
       "    <tr>\n",
       "      <th>0</th>\n",
       "      <td>Borderlands</td>\n",
       "      <td>1</td>\n",
       "      <td>[I, am, coming, to, the, borders, and, I, will...</td>\n",
       "    </tr>\n",
       "    <tr>\n",
       "      <th>1</th>\n",
       "      <td>Borderlands</td>\n",
       "      <td>1</td>\n",
       "      <td>[im, getting, on, borderlands, and, i, will, k...</td>\n",
       "    </tr>\n",
       "    <tr>\n",
       "      <th>2</th>\n",
       "      <td>Borderlands</td>\n",
       "      <td>1</td>\n",
       "      <td>[im, coming, on, borderlands, and, i, will, mu...</td>\n",
       "    </tr>\n",
       "    <tr>\n",
       "      <th>3</th>\n",
       "      <td>Borderlands</td>\n",
       "      <td>1</td>\n",
       "      <td>[im, getting, on, borderlands, 2, and, i, will...</td>\n",
       "    </tr>\n",
       "    <tr>\n",
       "      <th>4</th>\n",
       "      <td>Borderlands</td>\n",
       "      <td>1</td>\n",
       "      <td>[im, getting, into, borderlands, and, i, can, ...</td>\n",
       "    </tr>\n",
       "  </tbody>\n",
       "</table>\n",
       "</div>"
      ],
      "text/plain": [
       "        entity  sentiment                                      tweet_content\n",
       "0  Borderlands          1  [I, am, coming, to, the, borders, and, I, will...\n",
       "1  Borderlands          1  [im, getting, on, borderlands, and, i, will, k...\n",
       "2  Borderlands          1  [im, coming, on, borderlands, and, i, will, mu...\n",
       "3  Borderlands          1  [im, getting, on, borderlands, 2, and, i, will...\n",
       "4  Borderlands          1  [im, getting, into, borderlands, and, i, can, ..."
      ]
     },
     "execution_count": 19,
     "metadata": {},
     "output_type": "execute_result"
    }
   ],
   "source": [
    "df[\"tweet_content\"] = df[\"tweet_content\"].apply(lambda text : nltk.word_tokenize(text))\n",
    "df.head()"
   ]
  },
  {
   "cell_type": "code",
   "execution_count": 20,
   "id": "78d84065",
   "metadata": {},
   "outputs": [
    {
     "name": "stderr",
     "output_type": "stream",
     "text": [
      "[nltk_data] Downloading package stopwords to\n",
      "[nltk_data]     C:\\Users\\hp\\AppData\\Roaming\\nltk_data...\n",
      "[nltk_data]   Package stopwords is already up-to-date!\n"
     ]
    },
    {
     "data": {
      "text/plain": [
       "True"
      ]
     },
     "execution_count": 20,
     "metadata": {},
     "output_type": "execute_result"
    }
   ],
   "source": [
    "from nltk.corpus import stopwords\n",
    "nltk.download(\"stopwords\")"
   ]
  },
  {
   "cell_type": "code",
   "execution_count": 21,
   "id": "cb972dbb",
   "metadata": {},
   "outputs": [],
   "source": [
    "stopwords = set(stopwords.words(\"english\"))"
   ]
  },
  {
   "cell_type": "code",
   "execution_count": 22,
   "id": "d56dfeac",
   "metadata": {},
   "outputs": [
    {
     "data": {
      "text/html": [
       "<div>\n",
       "<style scoped>\n",
       "    .dataframe tbody tr th:only-of-type {\n",
       "        vertical-align: middle;\n",
       "    }\n",
       "\n",
       "    .dataframe tbody tr th {\n",
       "        vertical-align: top;\n",
       "    }\n",
       "\n",
       "    .dataframe thead th {\n",
       "        text-align: right;\n",
       "    }\n",
       "</style>\n",
       "<table border=\"1\" class=\"dataframe\">\n",
       "  <thead>\n",
       "    <tr style=\"text-align: right;\">\n",
       "      <th></th>\n",
       "      <th>entity</th>\n",
       "      <th>sentiment</th>\n",
       "      <th>tweet_content</th>\n",
       "    </tr>\n",
       "  </thead>\n",
       "  <tbody>\n",
       "    <tr>\n",
       "      <th>0</th>\n",
       "      <td>Borderlands</td>\n",
       "      <td>1</td>\n",
       "      <td>[coming, borders, kill, ,]</td>\n",
       "    </tr>\n",
       "    <tr>\n",
       "      <th>1</th>\n",
       "      <td>Borderlands</td>\n",
       "      <td>1</td>\n",
       "      <td>[im, getting, borderlands, kill, ,]</td>\n",
       "    </tr>\n",
       "    <tr>\n",
       "      <th>2</th>\n",
       "      <td>Borderlands</td>\n",
       "      <td>1</td>\n",
       "      <td>[im, coming, borderlands, murder, ,]</td>\n",
       "    </tr>\n",
       "    <tr>\n",
       "      <th>3</th>\n",
       "      <td>Borderlands</td>\n",
       "      <td>1</td>\n",
       "      <td>[im, getting, borderlands, 2, murder, ,]</td>\n",
       "    </tr>\n",
       "    <tr>\n",
       "      <th>4</th>\n",
       "      <td>Borderlands</td>\n",
       "      <td>1</td>\n",
       "      <td>[im, getting, borderlands, murder, ,]</td>\n",
       "    </tr>\n",
       "  </tbody>\n",
       "</table>\n",
       "</div>"
      ],
      "text/plain": [
       "        entity  sentiment                             tweet_content\n",
       "0  Borderlands          1                [coming, borders, kill, ,]\n",
       "1  Borderlands          1       [im, getting, borderlands, kill, ,]\n",
       "2  Borderlands          1      [im, coming, borderlands, murder, ,]\n",
       "3  Borderlands          1  [im, getting, borderlands, 2, murder, ,]\n",
       "4  Borderlands          1     [im, getting, borderlands, murder, ,]"
      ]
     },
     "execution_count": 22,
     "metadata": {},
     "output_type": "execute_result"
    }
   ],
   "source": [
    "df[\"tweet_content\"] = df[\"tweet_content\"].apply(lambda text : [word for word in text if word.lower() not in stopwords])\n",
    "df.head()"
   ]
  },
  {
   "cell_type": "code",
   "execution_count": 23,
   "id": "4bc71f7b",
   "metadata": {},
   "outputs": [],
   "source": [
    "df[\"tweet_content\"] = df[\"tweet_content\"].apply(lambda x : \" \".join(x))"
   ]
  },
  {
   "cell_type": "code",
   "execution_count": 24,
   "id": "d846912f",
   "metadata": {
    "scrolled": true
   },
   "outputs": [
    {
     "data": {
      "text/html": [
       "<div>\n",
       "<style scoped>\n",
       "    .dataframe tbody tr th:only-of-type {\n",
       "        vertical-align: middle;\n",
       "    }\n",
       "\n",
       "    .dataframe tbody tr th {\n",
       "        vertical-align: top;\n",
       "    }\n",
       "\n",
       "    .dataframe thead th {\n",
       "        text-align: right;\n",
       "    }\n",
       "</style>\n",
       "<table border=\"1\" class=\"dataframe\">\n",
       "  <thead>\n",
       "    <tr style=\"text-align: right;\">\n",
       "      <th></th>\n",
       "      <th>sentiment</th>\n",
       "      <th>new_review</th>\n",
       "    </tr>\n",
       "  </thead>\n",
       "  <tbody>\n",
       "    <tr>\n",
       "      <th>0</th>\n",
       "      <td>1</td>\n",
       "      <td>Borderlands - coming borders kill ,</td>\n",
       "    </tr>\n",
       "    <tr>\n",
       "      <th>1</th>\n",
       "      <td>1</td>\n",
       "      <td>Borderlands - im getting borderlands kill ,</td>\n",
       "    </tr>\n",
       "    <tr>\n",
       "      <th>2</th>\n",
       "      <td>1</td>\n",
       "      <td>Borderlands - im coming borderlands murder ,</td>\n",
       "    </tr>\n",
       "    <tr>\n",
       "      <th>3</th>\n",
       "      <td>1</td>\n",
       "      <td>Borderlands - im getting borderlands 2 murder ,</td>\n",
       "    </tr>\n",
       "    <tr>\n",
       "      <th>4</th>\n",
       "      <td>1</td>\n",
       "      <td>Borderlands - im getting borderlands murder ,</td>\n",
       "    </tr>\n",
       "    <tr>\n",
       "      <th>...</th>\n",
       "      <td>...</td>\n",
       "      <td>...</td>\n",
       "    </tr>\n",
       "    <tr>\n",
       "      <th>987</th>\n",
       "      <td>0</td>\n",
       "      <td>LeagueOfLegends - ♥️ Suikoden 2 1️⃣ Alex Kidd ...</td>\n",
       "    </tr>\n",
       "    <tr>\n",
       "      <th>988</th>\n",
       "      <td>1</td>\n",
       "      <td>HomeDepot - Thank Matching funds Home Depot RW...</td>\n",
       "    </tr>\n",
       "    <tr>\n",
       "      <th>990</th>\n",
       "      <td>0</td>\n",
       "      <td>CallOfDuty - Late night stream boys ! Come wat...</td>\n",
       "    </tr>\n",
       "    <tr>\n",
       "      <th>994</th>\n",
       "      <td>0</td>\n",
       "      <td>GrandTheftAuto(GTA) - ⭐️ Toronto arts culture ...</td>\n",
       "    </tr>\n",
       "    <tr>\n",
       "      <th>995</th>\n",
       "      <td>0</td>\n",
       "      <td>CS-GO - ACTUALLY GOOD MOVE TOT BRING VIEWERS ....</td>\n",
       "    </tr>\n",
       "  </tbody>\n",
       "</table>\n",
       "<p>72138 rows × 2 columns</p>\n",
       "</div>"
      ],
      "text/plain": [
       "     sentiment                                         new_review\n",
       "0            1                Borderlands - coming borders kill ,\n",
       "1            1        Borderlands - im getting borderlands kill ,\n",
       "2            1       Borderlands - im coming borderlands murder ,\n",
       "3            1    Borderlands - im getting borderlands 2 murder ,\n",
       "4            1      Borderlands - im getting borderlands murder ,\n",
       "..         ...                                                ...\n",
       "987          0  LeagueOfLegends - ♥️ Suikoden 2 1️⃣ Alex Kidd ...\n",
       "988          1  HomeDepot - Thank Matching funds Home Depot RW...\n",
       "990          0  CallOfDuty - Late night stream boys ! Come wat...\n",
       "994          0  GrandTheftAuto(GTA) - ⭐️ Toronto arts culture ...\n",
       "995          0  CS-GO - ACTUALLY GOOD MOVE TOT BRING VIEWERS ....\n",
       "\n",
       "[72138 rows x 2 columns]"
      ]
     },
     "execution_count": 24,
     "metadata": {},
     "output_type": "execute_result"
    }
   ],
   "source": [
    "df[\"new_review\"] = df[\"entity\"] + \" - \" + df[\"tweet_content\"]\n",
    "df = df.drop(columns=['entity','tweet_content'])\n",
    "df"
   ]
  },
  {
   "cell_type": "markdown",
   "id": "691d01cd",
   "metadata": {},
   "source": [
    "### Feature extraction"
   ]
  },
  {
   "cell_type": "code",
   "execution_count": 25,
   "id": "a6db2bdb",
   "metadata": {},
   "outputs": [],
   "source": [
    "from sklearn.feature_extraction.text import CountVectorizer, TfidfVectorizer"
   ]
  },
  {
   "cell_type": "code",
   "execution_count": 27,
   "id": "59e01100",
   "metadata": {},
   "outputs": [],
   "source": [
    "vectorizer = TfidfVectorizer(max_features=1000)  # Example parameters, adjust as needed\n",
    "x = vectorizer.fit_transform(df['new_review'])\n",
    "y = df['sentiment']\n"
   ]
  },
  {
   "cell_type": "code",
   "execution_count": 28,
   "id": "9a2a47ec",
   "metadata": {},
   "outputs": [
    {
     "data": {
      "text/plain": [
       "0    1\n",
       "1    1\n",
       "2    1\n",
       "3    1\n",
       "4    1\n",
       "Name: sentiment, dtype: int64"
      ]
     },
     "execution_count": 28,
     "metadata": {},
     "output_type": "execute_result"
    }
   ],
   "source": [
    "y.head()"
   ]
  },
  {
   "cell_type": "code",
   "execution_count": 29,
   "id": "8aefee8d",
   "metadata": {},
   "outputs": [],
   "source": [
    "from sklearn.model_selection import train_test_split"
   ]
  },
  {
   "cell_type": "code",
   "execution_count": 30,
   "id": "6a94ab43",
   "metadata": {
    "scrolled": false
   },
   "outputs": [],
   "source": [
    "x_train , x_test , y_train , y_test = train_test_split(x,y,test_size = 0.2)"
   ]
  },
  {
   "cell_type": "markdown",
   "id": "482fb472",
   "metadata": {
    "id": "93709b8f",
    "papermill": {
     "duration": 0.094668,
     "end_time": "2021-09-06T13:17:38.578535",
     "exception": false,
     "start_time": "2021-09-06T13:17:38.483867",
     "status": "completed"
    },
    "tags": []
   },
   "source": [
    "# 9. Classification Using ML Models"
   ]
  },
  {
   "cell_type": "markdown",
   "id": "e85bab2f",
   "metadata": {
    "papermill": {
     "duration": 0.096568,
     "end_time": "2021-09-06T13:17:46.309535",
     "exception": false,
     "start_time": "2021-09-06T13:17:46.212967",
     "status": "completed"
    },
    "tags": []
   },
   "source": [
    "## MiltinomialNB Classifier"
   ]
  },
  {
   "cell_type": "code",
   "execution_count": 37,
   "id": "0221b5a5",
   "metadata": {},
   "outputs": [
    {
     "data": {
      "text/plain": [
       "MultinomialNB()"
      ]
     },
     "execution_count": 37,
     "metadata": {},
     "output_type": "execute_result"
    }
   ],
   "source": [
    "# Model selection and training\n",
    "from sklearn.naive_bayes import MultinomialNB\n",
    "model = MultinomialNB()  # Example, you can replace with any other model\n",
    "model.fit(x_train, y_train)\n"
   ]
  },
  {
   "cell_type": "code",
   "execution_count": 38,
   "id": "2c9589aa",
   "metadata": {},
   "outputs": [
    {
     "name": "stdout",
     "output_type": "stream",
     "text": [
      "Accuracy: 0.6233019129470474\n",
      "Classification Report:\n",
      "               precision    recall  f1-score   support\n",
      "\n",
      "           0       0.60      0.74      0.66      6082\n",
      "           1       0.64      0.47      0.54      3987\n",
      "           2       0.66      0.60      0.63      4359\n",
      "\n",
      "    accuracy                           0.62     14428\n",
      "   macro avg       0.63      0.60      0.61     14428\n",
      "weighted avg       0.63      0.62      0.62     14428\n",
      "\n"
     ]
    }
   ],
   "source": [
    "# Model evaluation\n",
    "y_pred = model.predict(x_test)\n",
    "print(\"Accuracy:\", accuracy_score(y_test, y_pred))\n",
    "print(\"Classification Report:\\n\", classification_report(y_test, y_pred))\n"
   ]
  },
  {
   "cell_type": "code",
   "execution_count": 40,
   "id": "644bd157",
   "metadata": {},
   "outputs": [
    {
     "name": "stdout",
     "output_type": "stream",
     "text": [
      "Training Support Vector Machine...\n",
      "Support Vector Machine Accuracy: 0.8918075963404491\n",
      "Support Vector Machine Classification Report:\n",
      "              precision    recall  f1-score   support\n",
      "\n",
      "           0       0.88      0.93      0.90      6082\n",
      "           1       0.91      0.84      0.87      3987\n",
      "           2       0.90      0.89      0.89      4359\n",
      "\n",
      "    accuracy                           0.89     14428\n",
      "   macro avg       0.90      0.89      0.89     14428\n",
      "weighted avg       0.89      0.89      0.89     14428\n",
      "\n",
      "==================================================\n",
      "Training Logistic Regression...\n",
      "Logistic Regression Accuracy: 0.652411976711949\n",
      "Logistic Regression Classification Report:\n",
      "              precision    recall  f1-score   support\n",
      "\n",
      "           0       0.65      0.70      0.67      6082\n",
      "           1       0.64      0.56      0.60      3987\n",
      "           2       0.67      0.67      0.67      4359\n",
      "\n",
      "    accuracy                           0.65     14428\n",
      "   macro avg       0.65      0.64      0.65     14428\n",
      "weighted avg       0.65      0.65      0.65     14428\n",
      "\n",
      "==================================================\n",
      "Training Random Forest...\n",
      "Random Forest Accuracy: 0.89478791239257\n",
      "Random Forest Classification Report:\n",
      "              precision    recall  f1-score   support\n",
      "\n",
      "           0       0.88      0.93      0.90      6082\n",
      "           1       0.90      0.86      0.88      3987\n",
      "           2       0.91      0.88      0.90      4359\n",
      "\n",
      "    accuracy                           0.89     14428\n",
      "   macro avg       0.90      0.89      0.89     14428\n",
      "weighted avg       0.90      0.89      0.89     14428\n",
      "\n",
      "==================================================\n",
      "Training Gradient Boosting...\n",
      "Gradient Boosting Accuracy: 0.6011228167452176\n",
      "Gradient Boosting Classification Report:\n",
      "              precision    recall  f1-score   support\n",
      "\n",
      "           0       0.55      0.81      0.66      6082\n",
      "           1       0.68      0.40      0.50      3987\n",
      "           2       0.68      0.49      0.57      4359\n",
      "\n",
      "    accuracy                           0.60     14428\n",
      "   macro avg       0.64      0.57      0.58     14428\n",
      "weighted avg       0.63      0.60      0.59     14428\n",
      "\n",
      "==================================================\n",
      "Training Decision Tree...\n",
      "Decision Tree Accuracy: 0.8185472691987802\n",
      "Decision Tree Classification Report:\n",
      "              precision    recall  f1-score   support\n",
      "\n",
      "           0       0.82      0.84      0.83      6082\n",
      "           1       0.81      0.78      0.79      3987\n",
      "           2       0.82      0.82      0.82      4359\n",
      "\n",
      "    accuracy                           0.82     14428\n",
      "   macro avg       0.82      0.81      0.82     14428\n",
      "weighted avg       0.82      0.82      0.82     14428\n",
      "\n",
      "==================================================\n",
      "Training XGBoost...\n",
      "XGBoost Accuracy: 0.7063349043526477\n",
      "XGBoost Classification Report:\n",
      "              precision    recall  f1-score   support\n",
      "\n",
      "           0       0.67      0.81      0.73      6082\n",
      "           1       0.74      0.58      0.65      3987\n",
      "           2       0.76      0.67      0.71      4359\n",
      "\n",
      "    accuracy                           0.71     14428\n",
      "   macro avg       0.72      0.69      0.70     14428\n",
      "weighted avg       0.71      0.71      0.70     14428\n",
      "\n",
      "==================================================\n",
      "Training K-Nearest Neighbors...\n",
      "K-Nearest Neighbors Accuracy: 0.8848766287773773\n",
      "K-Nearest Neighbors Classification Report:\n",
      "              precision    recall  f1-score   support\n",
      "\n",
      "           0       0.88      0.91      0.90      6082\n",
      "           1       0.88      0.85      0.86      3987\n",
      "           2       0.90      0.88      0.89      4359\n",
      "\n",
      "    accuracy                           0.88     14428\n",
      "   macro avg       0.89      0.88      0.88     14428\n",
      "weighted avg       0.88      0.88      0.88     14428\n",
      "\n",
      "==================================================\n"
     ]
    }
   ],
   "source": [
    "import pandas as pd\n",
    "from sklearn.model_selection import train_test_split\n",
    "from sklearn.feature_extraction.text import TfidfVectorizer\n",
    "from sklearn.metrics import accuracy_score, classification_report\n",
    "from sklearn.svm import SVC\n",
    "from sklearn.linear_model import LogisticRegression\n",
    "from sklearn.ensemble import RandomForestClassifier, GradientBoostingClassifier\n",
    "from sklearn.tree import DecisionTreeClassifier\n",
    "from xgboost import XGBClassifier\n",
    "from sklearn.neighbors import KNeighborsClassifier\n",
    "\n",
    "\n",
    "# Define models\n",
    "models = {\n",
    "    'Support Vector Machine': SVC(),\n",
    "    'Logistic Regression': LogisticRegression(),\n",
    "    'Random Forest': RandomForestClassifier(),\n",
    "    'Gradient Boosting': GradientBoostingClassifier(),\n",
    "    'Decision Tree': DecisionTreeClassifier(),\n",
    "    'XGBoost': XGBClassifier(),\n",
    "    'K-Nearest Neighbors': KNeighborsClassifier()\n",
    "}\n",
    "\n",
    "# Train and evaluate models\n",
    "for name, model in models.items():\n",
    "    print(f\"Training {name}...\")\n",
    "    model.fit(x_train, y_train)\n",
    "    y_pred = model.predict(x_test)\n",
    "    accuracy = accuracy_score(y_test, y_pred)\n",
    "    report = classification_report(y_test, y_pred)\n",
    "    print(f\"{name} Accuracy: {accuracy}\")\n",
    "    print(f\"{name} Classification Report:\\n{report}\")\n",
    "    print(\"=\"*50)\n"
   ]
  },
  {
   "cell_type": "code",
   "execution_count": 41,
   "id": "8203a793",
   "metadata": {},
   "outputs": [],
   "source": [
    "# Using pipeline for prediction"
   ]
  },
  {
   "cell_type": "code",
   "execution_count": 42,
   "id": "5f04b18e",
   "metadata": {},
   "outputs": [],
   "source": [
    "x= df.iloc[:,1]\n",
    "y = df.iloc[:,0]"
   ]
  },
  {
   "cell_type": "code",
   "execution_count": 43,
   "id": "0c627a6b",
   "metadata": {},
   "outputs": [],
   "source": [
    "x_train , x_test , y_train , y_test = train_test_split(x,y,test_size = 0.2)"
   ]
  },
  {
   "cell_type": "code",
   "execution_count": 44,
   "id": "3d6842bb",
   "metadata": {},
   "outputs": [],
   "source": [
    "from sklearn.pipeline import Pipeline\n",
    "clf = Pipeline([\n",
    "    ('vectorizer_tri_grams', TfidfVectorizer()),\n",
    "    ('RandomForest', (RandomForestClassifier()))          \n",
    "])\n"
   ]
  },
  {
   "cell_type": "code",
   "execution_count": 45,
   "id": "15f7b229",
   "metadata": {
    "scrolled": false
   },
   "outputs": [
    {
     "data": {
      "text/plain": [
       "Pipeline(steps=[('vectorizer_tri_grams', TfidfVectorizer()),\n",
       "                ('RandomForest', RandomForestClassifier())])"
      ]
     },
     "execution_count": 45,
     "metadata": {},
     "output_type": "execute_result"
    }
   ],
   "source": [
    "clf.fit(x_train, y_train)"
   ]
  },
  {
   "cell_type": "code",
   "execution_count": 46,
   "id": "e5a72d90",
   "metadata": {},
   "outputs": [
    {
     "name": "stdout",
     "output_type": "stream",
     "text": [
      "0.9437205433878569\n"
     ]
    }
   ],
   "source": [
    "pred = clf.predict(x_test)\n",
    "print(accuracy_score(y_test, pred))"
   ]
  },
  {
   "cell_type": "code",
   "execution_count": null,
   "id": "868e92f5",
   "metadata": {},
   "outputs": [],
   "source": [
    "# Here we got an accuracy of 94.49%"
   ]
  },
  {
   "cell_type": "code",
   "execution_count": 47,
   "id": "d6ff9adf",
   "metadata": {},
   "outputs": [
    {
     "name": "stdout",
     "output_type": "stream",
     "text": [
      "Predictions: [1 2]\n"
     ]
    }
   ],
   "source": [
    "# Prediction example\n",
    "new_reviews = [\"This game is amazing!\", \"I don't like this game.\"]\n",
    "predictions = clf.predict(new_reviews)\n",
    "print(\"Predictions:\", predictions)\n"
   ]
  },
  {
   "cell_type": "code",
   "execution_count": null,
   "id": "c4a37625",
   "metadata": {},
   "outputs": [],
   "source": []
  }
 ],
 "metadata": {
  "kernelspec": {
   "display_name": "Python 3 (ipykernel)",
   "language": "python",
   "name": "python3"
  },
  "language_info": {
   "codemirror_mode": {
    "name": "ipython",
    "version": 3
   },
   "file_extension": ".py",
   "mimetype": "text/x-python",
   "name": "python",
   "nbconvert_exporter": "python",
   "pygments_lexer": "ipython3",
   "version": "3.9.13"
  }
 },
 "nbformat": 4,
 "nbformat_minor": 5
}
